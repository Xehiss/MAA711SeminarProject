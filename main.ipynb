{
 "cells": [
  {
   "cell_type": "code",
   "execution_count": 1,
   "metadata": {},
   "outputs": [
    {
     "name": "stdout",
     "output_type": "stream",
     "text": [
      "Epoch:  0\n"
     ]
    },
    {
     "ename": "UnboundLocalError",
     "evalue": "local variable 'theta' referenced before assignment",
     "output_type": "error",
     "traceback": [
      "\u001b[0;31m---------------------------------------------------------------------------\u001b[0m",
      "\u001b[0;31mUnboundLocalError\u001b[0m                         Traceback (most recent call last)",
      "Cell \u001b[0;32mIn[1], line 66\u001b[0m\n\u001b[1;32m     63\u001b[0m reward \u001b[39m=\u001b[39m np\u001b[39m.\u001b[39marray([\u001b[39m1\u001b[39m, \u001b[39m0\u001b[39m, \u001b[39m-\u001b[39m\u001b[39m1\u001b[39m])\n\u001b[1;32m     65\u001b[0m \u001b[39m# Computing the optimal policy parameters\u001b[39;00m\n\u001b[0;32m---> 66\u001b[0m optimal_theta \u001b[39m=\u001b[39m inverse_reinforcement_learning(state, reward)\n\u001b[1;32m     68\u001b[0m \u001b[39m# Computing the option price using the optimal policy parameters\u001b[39;00m\n\u001b[1;32m     69\u001b[0m option_price \u001b[39m=\u001b[39m policy_function(state, optimal_theta)\n",
      "Cell \u001b[0;32mIn[1], line 44\u001b[0m, in \u001b[0;36minverse_reinforcement_learning\u001b[0;34m(state, reward)\u001b[0m\n\u001b[1;32m     42\u001b[0m policy_grad \u001b[39m=\u001b[39m \u001b[39m-\u001b[39mgrad \u001b[39m*\u001b[39m reward\n\u001b[1;32m     43\u001b[0m \u001b[39m# Updating the policy parameters\u001b[39;00m\n\u001b[0;32m---> 44\u001b[0m theta \u001b[39m+\u001b[39m\u001b[39m=\u001b[39m learning_rate \u001b[39m*\u001b[39m policy_grad\n\u001b[1;32m     45\u001b[0m \u001b[39m# Computing the gradient of the value function with respect to the value function parameters\u001b[39;00m\n\u001b[1;32m     46\u001b[0m value_grad \u001b[39m=\u001b[39m grad \u001b[39m*\u001b[39m value\n",
      "\u001b[0;31mUnboundLocalError\u001b[0m: local variable 'theta' referenced before assignment"
     ]
    }
   ],
   "source": [
    "#importing libraries\n",
    "import numpy as np \n",
    "import pandas as pd \n",
    "\n",
    "desired_price = 100\n",
    "# Defining the reward function\n",
    "def reward_function(option_price):\n",
    "    return -(option_price - desired_price)**2\n",
    "\n",
    "# Defining the policy function\n",
    "def policy_function(state):\n",
    "    theta = np.random.randn(state.shape[1]) # random initialization of theta\n",
    "    output = np.dot(state, theta) # output of the policy\n",
    "    return output\n",
    "\n",
    "# Defining the value function\n",
    "def value_function(state, action, reward):\n",
    "    theta = np.random.randn(state.shape[1] + action.shape[1]) # random initialization of theta\n",
    "    output = np.dot(np.concatenate((state, action), axis = 1), theta) # output of the value function\n",
    "    return output\n",
    "\n",
    "# Defining the inverse reinforcement learning algorithm\n",
    "def inverse_reinforcement_learning(state, reward):\n",
    "    # Initializing the parameters \n",
    "    num_epochs = 10\n",
    "    gamma = 0.9\n",
    "    learning_rate = 0.1\n",
    "    num_actions = 1\n",
    "\n",
    "    # Running the algorithm for the specified number of epochs\n",
    "    for epoch in range(num_epochs):\n",
    "        print(\"Epoch: \", epoch)\n",
    "        for s in range(state.shape[0]):\n",
    "            # Computing the action\n",
    "            action = policy_function(state[s].reshape(1, -1))\n",
    "            # Update the value function\n",
    "            value = value_function(state[s].reshape(1, -1), action.reshape(1, -1), reward[s])\n",
    "            # Computing the reward\n",
    "            reward = reward_function(action)\n",
    "            # Computing the gradient of the value function\n",
    "            grad = np.concatenate((state[s].reshape(1, -1), action.reshape(1, -1)), axis = 1)\n",
    "            # Computing the gradient of the value function with respect to the policy parameters\n",
    "            policy_grad = -grad * reward\n",
    "            # Updating the policy parameters\n",
    "            theta += learning_rate * policy_grad\n",
    "            # Computing the gradient of the value function with respect to the value function parameters\n",
    "            value_grad = grad * value\n",
    "            # Updating the value function parameters\n",
    "            theta += gamma * learning_rate * value_grad\n",
    "\n",
    "    # Computing the optimal policy parameters\n",
    "    optimal_theta = theta\n",
    "    return optimal_theta\n",
    "\n",
    "# Defining the desired price\n",
    "desired_price = 7.5\n",
    "\n",
    "# Initializing the state\n",
    "state = np.array([[1, 2, 3],\n",
    "                  [4, 5, 6],\n",
    "                  [7, 8, 9]])\n",
    "\n",
    "# Initializing the reward\n",
    "reward = np.array([1, 0, -1])\n",
    "\n",
    "# Computing the optimal policy parameters\n",
    "optimal_theta = inverse_reinforcement_learning(state, reward)\n",
    "\n",
    "# Computing the option price using the optimal policy parameters\n",
    "option_price = policy_function(state, optimal_theta)\n",
    "\n",
    "# Printing the option price\n",
    "print('The option price is: ', option_price)"
   ]
  }
 ],
 "metadata": {
  "kernelspec": {
   "display_name": "base",
   "language": "python",
   "name": "python3"
  },
  "language_info": {
   "codemirror_mode": {
    "name": "ipython",
    "version": 3
   },
   "file_extension": ".py",
   "mimetype": "text/x-python",
   "name": "python",
   "nbconvert_exporter": "python",
   "pygments_lexer": "ipython3",
   "version": "3.9.15"
  },
  "orig_nbformat": 4,
  "vscode": {
   "interpreter": {
    "hash": "ab71bbf8a64854a43bb5fc7d7fa4209e68fdca3ceb07c3d11aa21b4b1bc2f838"
   }
  }
 },
 "nbformat": 4,
 "nbformat_minor": 2
}
